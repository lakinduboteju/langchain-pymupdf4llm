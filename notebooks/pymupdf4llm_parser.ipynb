{
 "cells": [
  {
   "cell_type": "code",
   "execution_count": 1,
   "metadata": {},
   "outputs": [],
   "source": [
    "import os\n",
    "from pathlib import Path\n",
    "\n",
    "PWD = %pwd\n",
    "DOCS_DIR = os.path.join(PWD, \"tests\", \"examples\")\n",
    "\n",
    "assert os.path.exists(DOCS_DIR)"
   ]
  },
  {
   "cell_type": "code",
   "execution_count": 2,
   "metadata": {},
   "outputs": [],
   "source": [
    "from langchain_core.document_loaders import Blob\n",
    "from langchain_pymupdf4llm.pymupdf4llm_parser import PyMuPDF4LLMParser\n",
    "\n",
    "doc_path = os.path.join(DOCS_DIR, \"sample_1.pdf\")\n",
    "assert os.path.exists(doc_path)\n",
    "blob = Blob.from_path(doc_path)\n",
    "\n",
    "parser = PyMuPDF4LLMParser(mode=\"single\")\n",
    "\n",
    "doc_generator = parser.lazy_parse(blob)\n",
    "docs = list(doc_generator)\n",
    "assert len(docs) == 1"
   ]
  },
  {
   "cell_type": "code",
   "execution_count": 3,
   "metadata": {},
   "outputs": [
    {
     "data": {
      "text/markdown": [
       "# Sample Document 1\n",
       "\n",
       "### Lakindu Boteju\n",
       "\n",
       " February 18, 2025\n",
       "\n",
       "## 1 Introduction\n",
       "\n",
       "This is a simple document to demonstrate a basic layout, including sections\n",
       "with headings, paragraphs, lists, a table, a code block and an image.\n",
       "\n",
       "Text can be BOLD, Italic, and Monospace.\n",
       "\n",
       "We can also include ordered lists:\n",
       "\n",
       "1. Item 1\n",
       "\n",
       "2. Item 2\n",
       "\n",
       "3. Item 3\n",
       "\n",
       "And unordered lists:\n",
       "\n",
       "\n",
       "Item 1\n",
       "\n",
       "\n",
       "Item 2\n",
       "\n",
       "\n",
       "Item 3\n",
       "\n",
       "### 1.1 Sub-heading\n",
       "\n",
       "In this section, we present a table with strict vertical and horizontal lines.\n",
       "\n",
       "**Column 1** **Column 2** **Column 3**\n",
       "Row 1, Col 1 Row 1, Col 2 Row 1, Col 3\n",
       "Row 2, Col 1 Row 2, Col 2 Row 2, Col 3\n",
       "Row 3, Col 1 Row 3, Col 2 Row 3, Col 3\n",
       "\n",
       "Table 1: Sample Table\n",
       "\n",
       "To create this document we used LaTeX, which is a typesetting system that\n",
       "is widely used for producing scientific and mathematical documents due to its\n",
       "powerful handling of formulas and bibliographies.\n",
       "\n",
       "1\n",
       "\n",
       "|Column 1|Column 2|Column 3|\n",
       "|---|---|---|\n",
       "|Row 1, Col 1|Row 1, Col 2|Row 1, Col 3|\n",
       "|Row 2, Col 1|Row 2, Col 2|Row 2, Col 3|\n",
       "|Row 3, Col 1|Row 3, Col 2|Row 3, Col 3|\n",
       "\n",
       "\n",
       "-----\n",
       "\n",
       "### 1.2 Code Block and Image\n",
       "\n",
       "Here is a sample code snippet written in Python:\n",
       "```\n",
       "def hello_world():\n",
       "  print(\"Hello, World!\")\n",
       "if __name__ == \"__main__\":\n",
       "  hello_world()\n",
       "\n",
       "```\n",
       "Figure 1: Sample Image\n",
       "\n",
       "2\n",
       "\n"
      ],
      "text/plain": [
       "<IPython.core.display.Markdown object>"
      ]
     },
     "metadata": {},
     "output_type": "display_data"
    }
   ],
   "source": [
    "from IPython.display import display, Markdown\n",
    "\n",
    "display(Markdown(\n",
    "    docs[0].page_content\n",
    "))"
   ]
  }
 ],
 "metadata": {
  "kernelspec": {
   "display_name": "Python 3 (ipykernel)",
   "language": "python",
   "name": "python3"
  },
  "language_info": {
   "codemirror_mode": {
    "name": "ipython",
    "version": 3
   },
   "file_extension": ".py",
   "mimetype": "text/x-python",
   "name": "python",
   "nbconvert_exporter": "python",
   "pygments_lexer": "ipython3",
   "version": "3.9.21"
  }
 },
 "nbformat": 4,
 "nbformat_minor": 2
}
